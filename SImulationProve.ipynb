{
 "cells": [
  {
   "cell_type": "code",
   "execution_count": 2,
   "metadata": {},
   "outputs": [],
   "source": [
    "import numpy as np\n",
    "from numpy import linalg as LA\n",
    "import optim_tools as optim_tools#own file with helper\n",
    "\n",
    "A0 = np.matrix([[0,   1,       0],\n",
    "                [-10, -1.167, 25],\n",
    "                [0,   0,    -0.8]])\n",
    "b0 = np.matrix([[0],[0],[2.4]])\n",
    "c0 = np.matrix([1, 0, 0])\n",
    "d0 = np.matrix([0])\n",
    "T = np.arange(0, 5, 1e-2) \n",
    "s = np.zeros(len(T))\n",
    "u_max = 10.5\n",
    "pmin = 0.1\n",
    "X00 = [np.matrix([-20.0, -10.0, -10.0]).T,\n",
    "       np.matrix([-20.0, -10.0, 10.0]).T,\n",
    "       np.matrix([-20.0,  10.0, -10.0]).T,\n",
    "       np.matrix([20.0,  -10.0, 10.0]).T,\n",
    "       np.matrix([20.0,  -10.0, -10.0]).T,\n",
    "       np.matrix([20.0,   10.0, 10.0]).T]\n",
    "\n",
    "A = np.matrix([[0.00000,    1.00000,    0.00000],\n",
    "               [-0.00000,    0.00000,    1.00000],\n",
    "               [-8.00000,  -10.93360,   -1.96700]])\n",
    "\n",
    "a = np.matrix([8.0000,   10.9336,    1.9670]).T\n",
    "\n",
    "a_hat = np.matrix([7.9991,   10.9325,    1.9676]).T\n",
    "\n",
    "R1 = np.matrix([[4.04336,   5.48881,   0.66271],\n",
    "               [5.48881,   7.91988,   1.30004],\n",
    "               [0.66271,   1.30004,   0.97792]])\n",
    "\n",
    "T1 = np.matrix([[0.01667,   0.00000,   0.00000],\n",
    "               [0.00000,   0.01667,   0.00000],\n",
    "                [-0.16667,  -0.01945,   0.41667]])\n",
    "\n",
    "X0 = [T1.dot(x0) for x0 in X00]"
   ]
  },
  {
   "cell_type": "code",
   "execution_count": 3,
   "metadata": {},
   "outputs": [],
   "source": [
    "from scipy.optimize import minimize\n",
    "p_init = 0.1\n",
    "last_p = p_init\n",
    "\n",
    "def contr_func(y, s, x, u_max, a, a_hat, R1, T1=None):\n",
    "    global last_p, pmin\n",
    "    \n",
    "    # Transformation in Regelungsnormalform\n",
    "    if T1 is None:\n",
    "        T1 = np.eye(len(x))\n",
    "\n",
    "    x_R = T1*x\n",
    "    \n",
    "    func_g = lambda p: np.absolute(get_g(p, x_R, R1, u_max, a, a_hat))\n",
    "    res = minimize(func_g, last_p, method='Nelder-Mead') # find 0 -fzero\n",
    "    \n",
    "    # Saturate if too small\n",
    "    if res.x < pmin:\n",
    "        p = pmin\n",
    "    elif res.x > 1.0:\n",
    "        p = 1.0\n",
    "        print \"WARNING: p=({})>1! -> p is saturated to 1.0\".format(res.x)\n",
    "    else:\n",
    "        p = res.x\n",
    "\n",
    "    p_t.append(p)\n",
    "    p2_t.append(res.x)\n",
    "\n",
    "    last_p = p\n",
    "    \n",
    "    ## Calc K according to p\n",
    "    K = get_k(p, a, a_hat)\n",
    "\n",
    "    # Calc u\n",
    "    u = s-K.T.dot(x_R)\n",
    "    \n",
    "    # Saturate u\n",
    "    u = optim_tools.sat(u, u_max)\n",
    "    #print \"u\", u\n",
    "    \n",
    "    return u"
   ]
  },
  {
   "cell_type": "code",
   "execution_count": 4,
   "metadata": {},
   "outputs": [],
   "source": [
    "def get_g(v, x, R1, u_max, a, a_hat):\n",
    "    try:\n",
    "        v = v.squeeze() # This is weird, needed for minimize for some reason\n",
    "    except:\n",
    "        pass\n",
    "    D_inv = optim_tools._D_inv(v, len(x))\n",
    "    R = D_inv.dot(R1).dot(D_inv) # R(v) = D^⁻1 * R1 * D^-1\n",
    "    \n",
    "    k = get_k(v, a, a_hat) # k(v)\n",
    "    e = (u_max**(-2)) * (k.T.dot(LA.inv(R)).dot(k))\n",
    "    #assert e < 1.0\n",
    "    g = e*(x.T.dot(R).dot(x)) - 1.0\n",
    "    #assert g <= 0, \"g = {} > 0\".format(g)\n",
    "    # Update 2016: As of python 3.5, there is a new matrix_multiply symbol, @:\n",
    "    # g = x' @ D^-1 @ R1 @ D^-1 @ x - 1.0\n",
    "    return g"
   ]
  },
  {
   "cell_type": "code",
   "execution_count": 5,
   "metadata": {},
   "outputs": [],
   "source": [
    "# k(v) (4.5)\n",
    "def get_k(v, a, a_hat):\n",
    "    try:\n",
    "        v = v.squeeze() # This is weird, needed for minimize for some reason\n",
    "    except:\n",
    "        pass\n",
    "    D_inv = optim_tools._D_inv(v, len(a))\n",
    "    #print D_inv\n",
    "    k = D_inv.dot(a_hat) - a\n",
    "    return k"
   ]
  },
  {
   "cell_type": "code",
   "execution_count": 6,
   "metadata": {},
   "outputs": [],
   "source": [
    "p_t = []\n",
    "p2_t = []\n",
    "\n",
    "y, u, u_sat = optim_tools.simulate(A0, b0, c0, d0, lambda y, s, x: contr_func(y, s, x, u_max, a, a_hat, R1, T1), s, T, umax=u_max, x0=x0)"
   ]
  },
  {
   "cell_type": "code",
   "execution_count": 7,
   "metadata": {},
   "outputs": [
    {
     "data": {
      "image/png": "[encoded data removed]",
      "text/plain": [
       "<matplotlib.figure.Figure at 0x7f385a9ca0d0>"
      ]
     },
     "metadata": {},
     "output_type": "display_data"
    },
    {
     "data": {
      "image/png": "[encoded data removed]",
      "text/plain": [
       "<matplotlib.figure.Figure at 0x7f38587a9810>"
      ]
     },
     "metadata": {},
     "output_type": "display_data"
    }
   ],
   "source": [
    "import matplotlib.pyplot as plt\n",
    "\n",
    "#plt.figure()\n",
    "line0, = plt.plot(T[:], np.array(y[0,:].T), 'b', label='y wsvr')\n",
    "\n",
    "\n",
    "\n",
    "#first_legend = plt.legend(handles=[line1], loc=1)\n",
    "plt.legend(bbox_to_anchor=(1.05, 1), loc=2, borderaxespad=0.)\n",
    "plt.xlabel('T')\n",
    "plt.ylabel('y')\n",
    "plt.title('Step Response for Closed Loop With Controller')\n",
    "plt.show()\n",
    "\n",
    "#plt.figure()\n",
    "line0, = plt.plot(T, u_sat, 'b', label='u')\n",
    "\n",
    "\n",
    "#>first_legend = plt.legend(handles=[line1, line2, line1b, line2b], loc=1)\n",
    "plt.legend(bbox_to_anchor=(1.05, 1), loc=2, borderaxespad=0.)\n",
    "plt.xlabel('T')\n",
    "plt.ylabel('u')\n",
    "plt.title('Output values')\n",
    "plt.show()"
   ]
  },
  {
   "cell_type": "code",
   "execution_count": null,
   "metadata": {},
   "outputs": [],
   "source": []
  }
 ],
 "metadata": {
  "kernelspec": {
   "display_name": "Python 2",
   "language": "python",
   "name": "python2"
  },
  "language_info": {
   "codemirror_mode": {
    "name": "ipython",
    "version": 2
   },
   "file_extension": ".py",
   "mimetype": "text/x-python",
   "name": "python",
   "nbconvert_exporter": "python",
   "pygments_lexer": "ipython2",
   "version": "2.7.12"
  }
 },
 "nbformat": 4,
 "nbformat_minor": 2
}
